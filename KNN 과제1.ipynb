{
  "nbformat": 4,
  "nbformat_minor": 0,
  "metadata": {
    "colab": {
      "name": "과제1.ipynb",
      "provenance": [],
      "authorship_tag": "ABX9TyOjhnmhMM2/cvfa8iun5CmQ",
      "include_colab_link": true
    },
    "kernelspec": {
      "name": "python3",
      "display_name": "Python 3"
    },
    "language_info": {
      "name": "python"
    }
  },
  "cells": [
    {
      "cell_type": "markdown",
      "metadata": {
        "id": "view-in-github",
        "colab_type": "text"
      },
      "source": [
        "<a href=\"https://colab.research.google.com/github/hyoung01/Machine_Learning/blob/main/KNN%20%EA%B3%BC%EC%A0%9C1.ipynb\" target=\"_parent\"><img src=\"https://colab.research.google.com/assets/colab-badge.svg\" alt=\"Open In Colab\"/></a>"
      ]
    },
    {
      "cell_type": "code",
      "execution_count": 31,
      "metadata": {
        "id": "CxM8wbbNYvzT"
      },
      "outputs": [],
      "source": [
        "import numpy as np\n",
        "import pandas as pd"
      ]
    },
    {
      "cell_type": "code",
      "source": [
        "from sklearn import datasets #데이터셋 import\n",
        "from sklearn.model_selection import train_test_split #데이터 분리. \n",
        "from sklearn.neighbors import KNeighborsClassifier #KNN 모듈 import\n",
        "from sklearn.metrics import accuracy_score    #정확도 계산 모듈 import"
      ],
      "metadata": {
        "id": "9qwtpnyOaw9R"
      },
      "execution_count": 32,
      "outputs": []
    },
    {
      "cell_type": "code",
      "source": [
        "iris = datasets.load_iris() #Iris데이터 가져오기\n",
        "x_data = pd.DataFrame(iris.data, columns=iris.feature_names) #iris x_data\n",
        "y_data = pd.DataFrame(iris.target) #iris y_data\n",
        "print(x_data) #확인\n",
        "print(y_data)\n",
        "x_train, x_test, y_train, y_test = train_test_split(x_data,y_data, test_size =0.2, random_state =22) #train데이터와 test데이터 split\n",
        "print(x_train.shape) #확인\n",
        "print(x_test.shape)\n",
        "print(y_train.shape)\n",
        "print(y_test.shape)\n"
      ],
      "metadata": {
        "colab": {
          "base_uri": "https://localhost:8080/"
        },
        "id": "kGhhnx0nb7dB",
        "outputId": "b0749926-e294-4974-b811-cf14419760d7"
      },
      "execution_count": 36,
      "outputs": [
        {
          "output_type": "stream",
          "name": "stdout",
          "text": [
            "     sepal length (cm)  sepal width (cm)  petal length (cm)  petal width (cm)\n",
            "0                  5.1               3.5                1.4               0.2\n",
            "1                  4.9               3.0                1.4               0.2\n",
            "2                  4.7               3.2                1.3               0.2\n",
            "3                  4.6               3.1                1.5               0.2\n",
            "4                  5.0               3.6                1.4               0.2\n",
            "..                 ...               ...                ...               ...\n",
            "145                6.7               3.0                5.2               2.3\n",
            "146                6.3               2.5                5.0               1.9\n",
            "147                6.5               3.0                5.2               2.0\n",
            "148                6.2               3.4                5.4               2.3\n",
            "149                5.9               3.0                5.1               1.8\n",
            "\n",
            "[150 rows x 4 columns]\n",
            "     0\n",
            "0    0\n",
            "1    0\n",
            "2    0\n",
            "3    0\n",
            "4    0\n",
            "..  ..\n",
            "145  2\n",
            "146  2\n",
            "147  2\n",
            "148  2\n",
            "149  2\n",
            "\n",
            "[150 rows x 1 columns]\n",
            "(120, 4)\n",
            "(30, 4)\n",
            "(120, 1)\n",
            "(30, 1)\n"
          ]
        }
      ]
    },
    {
      "cell_type": "markdown",
      "source": [
        "knn.fit함수에서 y_train으로 추가하니, 밑에 오류가 발생하였다.\n",
        "\n",
        "> *DataConversionWarning: A column-vector y was passed when a 1d array was expected. Please change the shape of y to (n_samples,), for example using ravel()*\n",
        "\n",
        "y가 column-vector의 형태를 ravel()을 사용하여, (n_samples,)로 바꿔주어야 했다.\n",
        "그래서 y데이터는 y_train.values.ravel() 형태로 바꾸었다."
      ],
      "metadata": {
        "id": "FiH262-ghlc_"
      }
    },
    {
      "cell_type": "code",
      "source": [
        "knn = KNeighborsClassifier(n_neighbors=3) #3개의 인접한 이웃\n",
        "knn.fit(x_train, y_train.values.ravel()) #모델 fitting"
      ],
      "metadata": {
        "colab": {
          "base_uri": "https://localhost:8080/"
        },
        "id": "65iRkULSRrD9",
        "outputId": "4d28101d-3ef9-4941-f3ed-6edfc64ed2d1"
      },
      "execution_count": 37,
      "outputs": [
        {
          "output_type": "execute_result",
          "data": {
            "text/plain": [
              "KNeighborsClassifier(n_neighbors=3)"
            ]
          },
          "metadata": {},
          "execution_count": 37
        }
      ]
    },
    {
      "cell_type": "code",
      "source": [
        "#예측, 평가\n",
        "y_train_pred = knn.predict(x_train) # y_train 데이터 예측 결과\n",
        "y_test_pred = knn.predict(x_test) # y_test 데이터 예측 결과\n",
        "\n",
        "#결과 분석\n",
        "print(accuracy_score(y_train, y_train_pred)) #y_train데이터와 y_train_pred(train 예측 데이터)를 비교하여, 결과를 분석\n",
        "print(accuracy_score(y_test, y_test_pred)) #y_test데이터와 y_test_pred(test 예측 데이터)를 비교하여, 결과를 분석\n",
        "\n",
        "#학습 시킨 정확도 결과는 0.9583333333333334, 테스트 정확도 결과는 0.9666666666666667로 나타남"
      ],
      "metadata": {
        "colab": {
          "base_uri": "https://localhost:8080/"
        },
        "id": "QxBWEu2nR9vS",
        "outputId": "23a31aa6-39d7-47e3-923d-c51763d11d4d"
      },
      "execution_count": 35,
      "outputs": [
        {
          "output_type": "stream",
          "name": "stdout",
          "text": [
            "0.9583333333333334\n",
            "0.9666666666666667\n"
          ]
        }
      ]
    }
  ]
}